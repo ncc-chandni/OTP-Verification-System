{
  "cells": [
    {
      "cell_type": "markdown",
      "metadata": {
        "id": "qTOZVNOcszgQ"
      },
      "source": [
        "### Importing Libraries"
      ]
    },
    {
      "cell_type": "code",
      "execution_count": 9,
      "metadata": {
        "id": "cGmNyLOMyc2y"
      },
      "outputs": [],
      "source": [
        "import random #to create random integer for otp\n",
        "import smtplib #to send mail using local smtp server\n",
        "import re #to check email address is in correct format\n",
        "from email.message import EmailMessage # convenient way to construct email messages with headers, content\n",
        "import tkinter as tk #library used to build GUI\n",
        "from tkinter import messagebox #creates a message window with an application-specified message, an icon and a set of buttons.\n",
        "from datetime import datetime, timedelta # library used to check time email send and current time"
      ]
    },
    {
      "cell_type": "markdown",
      "metadata": {
        "id": "-6lQcDWas3SN"
      },
      "source": [
        "### Function to Generate OTP"
      ]
    },
    {
      "cell_type": "markdown",
      "metadata": {
        "id": "FGs74cFUuM4p"
      },
      "source": [
        "This function uses random module to generate a random integer between 100000 and 999999.\n",
        "\n",
        "\n",
        "\n"
      ]
    },
    {
      "cell_type": "code",
      "execution_count": 10,
      "metadata": {
        "id": "1MIbdzmfso_g"
      },
      "outputs": [],
      "source": [
        "def generate_otp():\n",
        "  return str(random.randint(100000, 999999))"
      ]
    },
    {
      "cell_type": "markdown",
      "metadata": {
        "id": "TXdiXZv7zyQH"
      },
      "source": [
        "### Function to Send OTP to user's email address"
      ]
    },
    {
      "cell_type": "markdown",
      "metadata": {
        "id": "e76BMAeM6uXe"
      },
      "source": [
        "This function using local SMTP server sends the OTP to the user's email.\n",
        "\n",
        "The function initially saves the sender email and app password instead of primary gmail password for security purpose.\n",
        "\n",
        "Also a message with subject and content is set. HTML code is used to beautify the message content.\n",
        "\n",
        "Using smtplib module a mail is send to the receiver email address.\n",
        "Message submission is over TLS (transport layer security) protocol hence the port number is 465.\n",
        "\n",
        "If any error occurs while sending, error message is prompted."
      ]
    },
    {
      "cell_type": "code",
      "execution_count": 11,
      "metadata": {
        "id": "xDqpGofcF6p1"
      },
      "outputs": [],
      "source": [
        "def send_otp_email(receiver_email, otp):\n",
        "    sender_email = \"nair.chandni.c@gmail.com\"  # Placeholder sender email address\n",
        "    pswd = \"fpdf gmbn cknu gnyt\"\n",
        "    message = EmailMessage()\n",
        "    message['Subject'] = 'OTP Verification'\n",
        "    message['From'] = sender_email\n",
        "    message['To'] = receiver_email\n",
        "    html_content = f'''\n",
        "    <!DOCTYPE html>\n",
        "    <html>\n",
        "    <head>\n",
        "        <link rel=\"stylesheet\" type=\"text/css\" hs-webfonts=\"true\" href=\"https://fonts.googleapis.com/css?family=Lato|Lato:i,b,bi\">\n",
        "        <meta http-equiv=\"Content-Type\" content=\"text/html; charset=UTF-8\">\n",
        "        <meta name=\"viewport\" content=\"width=device-width, initial-scale=1.0\">\n",
        "        <style type=\"text/css\">\n",
        "            h1{{font-size:56px;}}\n",
        "            h2{{font-size:28px;font-weight:900;}}\n",
        "            p{{font-weight:100;}}\n",
        "            td{{vertical-align:top;}}\n",
        "            #email{{margin:auto;width:600px;background-color:#fff;}}\n",
        "        </style>\n",
        "    </head>\n",
        "    <body bgcolor=\"#F5F8FA\" style=\"width: 100%; font-family:Lato, sans-serif; font-size:18px;\">\n",
        "    <div id=\"email\">\n",
        "        <table role=\"presentation\" width=\"100%\">\n",
        "            <tr>\n",
        "                <td bgcolor=\"#00A4BD\" align=\"center\" style=\"color: white;\">\n",
        "                    <h4> Your Authentication Code is Ready!!</h4>\n",
        "                </td>\n",
        "            </tr>\n",
        "        </table>\n",
        "        <table role=\"presentation\" border=\"0\" cellpadding=\"0\" cellspacing=\"10px\" style=\"padding: 30px 30px 30px 60px;\">\n",
        "            <tr>\n",
        "                <td>\n",
        "                    <p>\n",
        "                        Your OTP is: {otp} <br>\n",
        "                        This OTP is valid for 5 mins.  <br>\n",
        "                        Please do not share it with anyone. <br>\n",
        "\n",
        "                        Thank You.\n",
        "                    </p>\n",
        "                </td>\n",
        "            </tr>\n",
        "        </table>\n",
        "    </div>\n",
        "    </body>\n",
        "    </html>\n",
        "    '''\n",
        "    message.set_content(html_content, subtype='html')\n",
        "\n",
        "    try:\n",
        "        with smtplib.SMTP_SSL('smtp.gmail.com', 465) as server:\n",
        "            server.login(sender_email, pswd)\n",
        "            server.send_message(message)\n",
        "    except Exception as e:\n",
        "        print(f\"Error sending email: {e}\")\n"
      ]
    },
    {
      "cell_type": "markdown",
      "metadata": {
        "id": "AUrmqo-m9KrH"
      },
      "source": [
        "### Function to prompt the user to enter the OTP received in their email."
      ]
    },
    {
      "cell_type": "code",
      "execution_count": 12,
      "metadata": {
        "id": "9JtSPxJ16kTq"
      },
      "outputs": [],
      "source": [
        "def enter_received_otp():\n",
        "  return input(\"Enter the OTP received in your email: \")\n"
      ]
    },
    {
      "cell_type": "markdown",
      "metadata": {
        "id": "NfQQJr7-90OL"
      },
      "source": [
        "### Function to verify the received OTP"
      ]
    },
    {
      "cell_type": "markdown",
      "metadata": {
        "id": "NY-IceJC97cG"
      },
      "source": [
        "This function return True if the entered otp and the generated otp mathces else False."
      ]
    },
    {
      "cell_type": "code",
      "execution_count": 13,
      "metadata": {
        "id": "EXdVs7wv6kOf"
      },
      "outputs": [],
      "source": [
        "def verify_otp(entered_otp, generated_otp):\n",
        "    return entered_otp == generated_otp"
      ]
    },
    {
      "cell_type": "markdown",
      "metadata": {
        "id": "o10VFDWgU4-F"
      },
      "source": [
        "### Function to validate the email address"
      ]
    },
    {
      "cell_type": "markdown",
      "metadata": {
        "id": "MyyYVz2MWCvN"
      },
      "source": [
        "This function checks whether the entered email address of the receiver matches the regular expression pattern entirely. Returns True if it matches else False."
      ]
    },
    {
      "cell_type": "code",
      "execution_count": 14,
      "metadata": {
        "id": "cVr8e9ugU4PW"
      },
      "outputs": [],
      "source": [
        "def email_validation(email):\n",
        "  regex = r'\\b[A-Za-z0-9._%+-]+@[A-Za-z0-9.-]+\\.[A-Z|a-z]{2,7}\\b'\n",
        "  return re.fullmatch(regex, email) is not None"
      ]
    },
    {
      "cell_type": "markdown",
      "metadata": {
        "id": "MJiZjm59e6eg"
      },
      "source": [
        "### Tkinter application class for OTP Verification"
      ]
    },
    {
      "cell_type": "code",
      "execution_count": 15,
      "metadata": {
        "id": "TTAJ30I7fA81"
      },
      "outputs": [],
      "source": [
        "class OTPVerificationApp:\n",
        "  def __init__(self, root):\n",
        "    self.root = root\n",
        "    self.root.title(\"OTP Verification App\") #Title of the App\n",
        "\n",
        "    self.label_email = tk.Label(root, text = \"Enter your email address\")\n",
        "    self.label_email.grid(row = 0, column = 0, padx = 10, pady = 5)\n",
        "\n",
        "    self.enter_email = tk.Entry(root)\n",
        "    self.enter_email.grid(row=0, column=1, padx=10, pady = 5)\n",
        "\n",
        "    self.send_button = tk.Button(root, text = \"Send OTP\", command=self.send_otp)\n",
        "    self.send_button.grid(row=1,column=0, columnspan=2, padx=10,pady=5)\n",
        "\n",
        "    self.label_otp = tk.Label(root, text = \"Enter the OTP: \")\n",
        "    self.label_otp.grid(row=2, column=0, padx=10,pady=5)\n",
        "\n",
        "    self.enter_otp = tk.Entry(root)\n",
        "    self.enter_otp.grid(row=2, column=1, padx=10, pady=5)\n",
        "\n",
        "    self.verify_button = tk.Button(root, text = \"Verify OTP\", command=self.verify_otp)\n",
        "    self.verify_button.grid(row=3, column=0, columnspan=2, padx=10,pady=5)\n",
        "\n",
        "    self.attempts = 0  # Initialize attempts counter\n",
        "\n",
        "  def send_otp(self):\n",
        "        receiver_email = self.enter_email.get().strip()\n",
        "        if email_validation(receiver_email):\n",
        "            self.generated_otp = generate_otp()\n",
        "            send_otp_email(receiver_email, self.generated_otp)\n",
        "            self.otp_expiry_time = datetime.now() + timedelta(minutes=5)\n",
        "            messagebox.showinfo(\"OTP Sent\", \"OTP has been sent to your email address.\")\n",
        "        else:\n",
        "            messagebox.showerror(\"Invalid Email\", \"Please enter a valid email address.\")\n",
        "\n",
        "    # Function to verify OTP\n",
        "  def verify_otp(self):\n",
        "      if datetime.now() > self.otp_expiry_time:\n",
        "            messagebox.showerror(\"OTP Expired\", \"The OTP has expired. Please request a new one.\")\n",
        "            return  \n",
        "      entered_otp = self.enter_otp.get().strip()\n",
        "      if verify_otp(entered_otp, self.generated_otp):\n",
        "        messagebox.showinfo(\"Access Granted\", \"Access granted!\")\n",
        "        self.root.destroy()\n",
        "        return\n",
        "      else:\n",
        "        self.attempts += 1  # Increment the attempts counter\n",
        "        remaining_attempts = 3 - self.attempts\n",
        "        if remaining_attempts > 0:\n",
        "            messagebox.showerror(\"Incorrect OTP\", f\"Incorrect OTP. Attempts remaining: {remaining_attempts}\")\n",
        "        else:\n",
        "            messagebox.showerror(\"Access Denied\", \"Too many incorrect attempts. Access denied.\")\n",
        "            self.root.destroy()\n",
        "            return\n",
        "\n"
      ]
    },
    {
      "cell_type": "code",
      "execution_count": 16,
      "metadata": {
        "colab": {
          "base_uri": "https://localhost:8080/",
          "height": 418
        },
        "id": "30bigtbDa1A_",
        "outputId": "03bd8529-1dd9-4e92-ada4-f43b0c1922d3"
      },
      "outputs": [],
      "source": [
        "def main():\n",
        "  root = tk.Tk()\n",
        "  app = OTPVerificationApp(root)\n",
        "  root.mainloop()\n",
        "\n",
        "if __name__ == \"__main__\":\n",
        "    main()\n",
        "\n"
      ]
    },
    {
      "cell_type": "code",
      "execution_count": null,
      "metadata": {},
      "outputs": [],
      "source": []
    }
  ],
  "metadata": {
    "colab": {
      "collapsed_sections": [
        "qTOZVNOcszgQ",
        "-6lQcDWas3SN",
        "AUrmqo-m9KrH",
        "NfQQJr7-90OL"
      ],
      "provenance": []
    },
    "kernelspec": {
      "display_name": "Python 3",
      "name": "python3"
    },
    "language_info": {
      "codemirror_mode": {
        "name": "ipython",
        "version": 3
      },
      "file_extension": ".py",
      "mimetype": "text/x-python",
      "name": "python",
      "nbconvert_exporter": "python",
      "pygments_lexer": "ipython3",
      "version": "3.11.5"
    }
  },
  "nbformat": 4,
  "nbformat_minor": 0
}
